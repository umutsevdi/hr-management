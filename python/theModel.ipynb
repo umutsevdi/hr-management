{
 "cells": [
  {
   "cell_type": "code",
   "execution_count": null,
   "id": "4845d84c",
   "metadata": {},
   "outputs": [],
   "source": [
    "import pandas as pd\n",
    "import numpy as np\n",
    "from sklearn.preprocessing import LabelEncoder\n",
    "from sklearn import preprocessing \n",
    "from sklearn.svm import SVR\n",
    "import pickle\n"
   ]
  },
  {
   "cell_type": "code",
   "execution_count": null,
   "id": "93de08b1",
   "metadata": {},
   "outputs": [],
   "source": [
    "model = pickle.load(open(\"SVRmodel\", 'rb'))\n",
    "scaler = pickle.load(open(\"scaler\", 'rb'))\n",
    "lbe = pickle.load(open(\"laberEncoder\", 'rb'))\n"
   ]
  },
  {
   "cell_type": "code",
   "execution_count": null,
   "id": "6480d644",
   "metadata": {},
   "outputs": [],
   "source": [
    "columns = ['working_hour', 'sprint', 'sprint_tasks_awaiting', 'tasks_completed','tasks_delayed', 'tasks_incomplete', \n",
    "           'team_score_avg', 'title']\n",
    "df = pd.read_csv(\"new_data.csv\")\n",
    "ids = df['e_id']\n",
    "df = df[columns]\n"
   ]
  },
  {
   "cell_type": "code",
   "execution_count": null,
   "id": "75d062b4",
   "metadata": {},
   "outputs": [],
   "source": [
    "#label encoding\n",
    "df[\"title\"] = lbe.transform(df[\"title\"])"
   ]
  },
  {
   "cell_type": "code",
   "execution_count": null,
   "id": "3c8c1313",
   "metadata": {},
   "outputs": [],
   "source": [
    "#scaling\n",
    "df = pd.DataFrame(scaler.transform(df), columns = columns)\n"
   ]
  },
  {
   "cell_type": "code",
   "execution_count": null,
   "id": "06c02a79",
   "metadata": {},
   "outputs": [],
   "source": [
    "y_pred = model.predict(df)"
   ]
  },
  {
   "cell_type": "code",
   "execution_count": null,
   "id": "6791cd17",
   "metadata": {},
   "outputs": [
    {
     "data": {
      "text/html": [
       "<div>\n",
       "<style scoped>\n",
       "    .dataframe tbody tr th:only-of-type {\n",
       "        vertical-align: middle;\n",
       "    }\n",
       "\n",
       "    .dataframe tbody tr th {\n",
       "        vertical-align: top;\n",
       "    }\n",
       "\n",
       "    .dataframe thead th {\n",
       "        text-align: right;\n",
       "    }\n",
       "</style>\n",
       "<table border=\"1\" class=\"dataframe\">\n",
       "  <thead>\n",
       "    <tr style=\"text-align: right;\">\n",
       "      <th></th>\n",
       "      <th>e_id</th>\n",
       "      <th>salary</th>\n",
       "    </tr>\n",
       "  </thead>\n",
       "  <tbody>\n",
       "    <tr>\n",
       "      <th>0</th>\n",
       "      <td>7</td>\n",
       "      <td>6613.5</td>\n",
       "    </tr>\n",
       "    <tr>\n",
       "      <th>1</th>\n",
       "      <td>66</td>\n",
       "      <td>6628.5</td>\n",
       "    </tr>\n",
       "    <tr>\n",
       "      <th>2</th>\n",
       "      <td>100</td>\n",
       "      <td>6625.5</td>\n",
       "    </tr>\n",
       "    <tr>\n",
       "      <th>3</th>\n",
       "      <td>79</td>\n",
       "      <td>6613.5</td>\n",
       "    </tr>\n",
       "    <tr>\n",
       "      <th>4</th>\n",
       "      <td>10</td>\n",
       "      <td>6610.5</td>\n",
       "    </tr>\n",
       "    <tr>\n",
       "      <th>...</th>\n",
       "      <td>...</td>\n",
       "      <td>...</td>\n",
       "    </tr>\n",
       "    <tr>\n",
       "      <th>115</th>\n",
       "      <td>13</td>\n",
       "      <td>6616.5</td>\n",
       "    </tr>\n",
       "    <tr>\n",
       "      <th>116</th>\n",
       "      <td>80</td>\n",
       "      <td>6630.0</td>\n",
       "    </tr>\n",
       "    <tr>\n",
       "      <th>117</th>\n",
       "      <td>39</td>\n",
       "      <td>6624.0</td>\n",
       "    </tr>\n",
       "    <tr>\n",
       "      <th>118</th>\n",
       "      <td>68</td>\n",
       "      <td>6618.0</td>\n",
       "    </tr>\n",
       "    <tr>\n",
       "      <th>119</th>\n",
       "      <td>96</td>\n",
       "      <td>6621.0</td>\n",
       "    </tr>\n",
       "  </tbody>\n",
       "</table>\n",
       "<p>120 rows × 2 columns</p>\n",
       "</div>"
      ],
      "text/plain": [
       "     e_id  salary\n",
       "0       7  6613.5\n",
       "1      66  6628.5\n",
       "2     100  6625.5\n",
       "3      79  6613.5\n",
       "4      10  6610.5\n",
       "..    ...     ...\n",
       "115    13  6616.5\n",
       "116    80  6630.0\n",
       "117    39  6624.0\n",
       "118    68  6618.0\n",
       "119    96  6621.0\n",
       "\n",
       "[120 rows x 2 columns]"
      ]
     },
     "execution_count": 33,
     "metadata": {},
     "output_type": "execute_result"
    }
   ],
   "source": [
    "y_pred = y_pred.astype(int)\n",
    "enf = 0.5\n",
    "y_pred = y_pred * (1+enf)\n",
    "df = pd.DataFrame({'e_id': ids, 'salary': y_pred}, columns=['e_id', 'salary'])"
   ]
  },
  {
   "cell_type": "code",
   "execution_count": null,
   "id": "9ad08fce",
   "metadata": {},
   "outputs": [],
   "source": [
    "pd.DataFrame(df).to_json(\"result.json\")\n"
   ]
  },
  {
   "cell_type": "code",
   "execution_count": null,
   "id": "cd6afeb4",
   "metadata": {},
   "outputs": [],
   "source": []
  }
 ],
 "metadata": {
  "kernelspec": {
   "display_name": "Python 3 (ipykernel)",
   "language": "python",
   "name": "python3"
  },
  "language_info": {
   "codemirror_mode": {
    "name": "ipython",
    "version": 3
   },
   "file_extension": ".py",
   "mimetype": "text/x-python",
   "name": "python",
   "nbconvert_exporter": "python",
   "pygments_lexer": "ipython3",
   "version": "3.10.8"
  }
 },
 "nbformat": 4,
 "nbformat_minor": 5
}
