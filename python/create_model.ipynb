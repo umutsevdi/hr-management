{
 "cells": [
  {
   "cell_type": "code",
   "execution_count": 1,
   "id": "70a62d20",
   "metadata": {},
   "outputs": [],
   "source": [
    "import pandas as pd\n",
    "import numpy as np\n",
    "from sklearn.preprocessing import LabelEncoder\n",
    "from sklearn import preprocessing \n",
    "from sklearn.model_selection import train_test_split,GridSearchCV\n",
    "from sklearn.preprocessing import StandardScaler\n",
    "from sklearn.metrics import mean_squared_error\n",
    "\n",
    "\n",
    "\n",
    "#Models\n",
    "from lightgbm import LGBMRegressor\n",
    "from sklearn.neighbors import KNeighborsRegressor\n",
    "from sklearn.svm import SVR\n",
    "from sklearn.ensemble import RandomForestRegressor\n",
    "from sklearn.linear_model import LinearRegression\n",
    "from sklearn.tree import DecisionTreeRegressor\n",
    "\n"
   ]
  },
  {
   "cell_type": "code",
   "execution_count": 2,
   "id": "f17694d5",
   "metadata": {},
   "outputs": [],
   "source": [
    "df = pd.read_csv(\"clean_data.csv\")"
   ]
  },
  {
   "cell_type": "code",
   "execution_count": 3,
   "id": "27c77354",
   "metadata": {},
   "outputs": [
    {
     "data": {
      "text/html": [
       "<div>\n",
       "<style scoped>\n",
       "    .dataframe tbody tr th:only-of-type {\n",
       "        vertical-align: middle;\n",
       "    }\n",
       "\n",
       "    .dataframe tbody tr th {\n",
       "        vertical-align: top;\n",
       "    }\n",
       "\n",
       "    .dataframe thead th {\n",
       "        text-align: right;\n",
       "    }\n",
       "</style>\n",
       "<table border=\"1\" class=\"dataframe\">\n",
       "  <thead>\n",
       "    <tr style=\"text-align: right;\">\n",
       "      <th></th>\n",
       "      <th>working_hour</th>\n",
       "      <th>sprint</th>\n",
       "      <th>sprint_tasks_awaiting</th>\n",
       "      <th>tasks_completed</th>\n",
       "      <th>tasks_delayed</th>\n",
       "      <th>tasks_incomplete</th>\n",
       "      <th>team_score_avg</th>\n",
       "      <th>monthly_salary</th>\n",
       "      <th>title</th>\n",
       "    </tr>\n",
       "  </thead>\n",
       "  <tbody>\n",
       "    <tr>\n",
       "      <th>0</th>\n",
       "      <td>2055</td>\n",
       "      <td>20</td>\n",
       "      <td>0</td>\n",
       "      <td>37</td>\n",
       "      <td>1</td>\n",
       "      <td>1</td>\n",
       "      <td>8</td>\n",
       "      <td>5248</td>\n",
       "      <td>Human Resources</td>\n",
       "    </tr>\n",
       "    <tr>\n",
       "      <th>1</th>\n",
       "      <td>2015</td>\n",
       "      <td>23</td>\n",
       "      <td>3</td>\n",
       "      <td>36</td>\n",
       "      <td>2</td>\n",
       "      <td>3</td>\n",
       "      <td>9</td>\n",
       "      <td>3072</td>\n",
       "      <td>Software Developer</td>\n",
       "    </tr>\n",
       "    <tr>\n",
       "      <th>2</th>\n",
       "      <td>2133</td>\n",
       "      <td>26</td>\n",
       "      <td>2</td>\n",
       "      <td>26</td>\n",
       "      <td>0</td>\n",
       "      <td>4</td>\n",
       "      <td>6</td>\n",
       "      <td>3158</td>\n",
       "      <td>Quality Analysis and Testing</td>\n",
       "    </tr>\n",
       "    <tr>\n",
       "      <th>3</th>\n",
       "      <td>1930</td>\n",
       "      <td>23</td>\n",
       "      <td>0</td>\n",
       "      <td>36</td>\n",
       "      <td>1</td>\n",
       "      <td>2</td>\n",
       "      <td>9</td>\n",
       "      <td>5625</td>\n",
       "      <td>Software Developer</td>\n",
       "    </tr>\n",
       "    <tr>\n",
       "      <th>4</th>\n",
       "      <td>1907</td>\n",
       "      <td>26</td>\n",
       "      <td>1</td>\n",
       "      <td>31</td>\n",
       "      <td>0</td>\n",
       "      <td>2</td>\n",
       "      <td>7</td>\n",
       "      <td>3852</td>\n",
       "      <td>Database Admin</td>\n",
       "    </tr>\n",
       "  </tbody>\n",
       "</table>\n",
       "</div>"
      ],
      "text/plain": [
       "   working_hour  sprint  sprint_tasks_awaiting  tasks_completed  \\\n",
       "0          2055      20                      0               37   \n",
       "1          2015      23                      3               36   \n",
       "2          2133      26                      2               26   \n",
       "3          1930      23                      0               36   \n",
       "4          1907      26                      1               31   \n",
       "\n",
       "   tasks_delayed  tasks_incomplete  team_score_avg  monthly_salary  \\\n",
       "0              1                 1               8            5248   \n",
       "1              2                 3               9            3072   \n",
       "2              0                 4               6            3158   \n",
       "3              1                 2               9            5625   \n",
       "4              0                 2               7            3852   \n",
       "\n",
       "                          title  \n",
       "0               Human Resources  \n",
       "1            Software Developer  \n",
       "2  Quality Analysis and Testing  \n",
       "3            Software Developer  \n",
       "4                Database Admin  "
      ]
     },
     "execution_count": 3,
     "metadata": {},
     "output_type": "execute_result"
    }
   ],
   "source": [
    "df.head()"
   ]
  },
  {
   "cell_type": "code",
   "execution_count": 4,
   "id": "ccfcd41d",
   "metadata": {},
   "outputs": [
    {
     "name": "stdout",
     "output_type": "stream",
     "text": [
      "<class 'pandas.core.frame.DataFrame'>\n",
      "RangeIndex: 720 entries, 0 to 719\n",
      "Data columns (total 9 columns):\n",
      " #   Column                 Non-Null Count  Dtype \n",
      "---  ------                 --------------  ----- \n",
      " 0   working_hour           720 non-null    int64 \n",
      " 1   sprint                 720 non-null    int64 \n",
      " 2   sprint_tasks_awaiting  720 non-null    int64 \n",
      " 3   tasks_completed        720 non-null    int64 \n",
      " 4   tasks_delayed          720 non-null    int64 \n",
      " 5   tasks_incomplete       720 non-null    int64 \n",
      " 6   team_score_avg         720 non-null    int64 \n",
      " 7   monthly_salary         720 non-null    int64 \n",
      " 8   title                  506 non-null    object\n",
      "dtypes: int64(8), object(1)\n",
      "memory usage: 50.8+ KB\n"
     ]
    }
   ],
   "source": [
    "df.info()"
   ]
  },
  {
   "cell_type": "code",
   "execution_count": 5,
   "id": "ab46aacf",
   "metadata": {},
   "outputs": [
    {
     "data": {
      "text/html": [
       "<div>\n",
       "<style scoped>\n",
       "    .dataframe tbody tr th:only-of-type {\n",
       "        vertical-align: middle;\n",
       "    }\n",
       "\n",
       "    .dataframe tbody tr th {\n",
       "        vertical-align: top;\n",
       "    }\n",
       "\n",
       "    .dataframe thead th {\n",
       "        text-align: right;\n",
       "    }\n",
       "</style>\n",
       "<table border=\"1\" class=\"dataframe\">\n",
       "  <thead>\n",
       "    <tr style=\"text-align: right;\">\n",
       "      <th></th>\n",
       "      <th>working_hour</th>\n",
       "      <th>sprint</th>\n",
       "      <th>sprint_tasks_awaiting</th>\n",
       "      <th>tasks_completed</th>\n",
       "      <th>tasks_delayed</th>\n",
       "      <th>tasks_incomplete</th>\n",
       "      <th>team_score_avg</th>\n",
       "      <th>monthly_salary</th>\n",
       "      <th>title</th>\n",
       "    </tr>\n",
       "  </thead>\n",
       "  <tbody>\n",
       "    <tr>\n",
       "      <th>0</th>\n",
       "      <td>2055</td>\n",
       "      <td>20</td>\n",
       "      <td>0</td>\n",
       "      <td>37</td>\n",
       "      <td>1</td>\n",
       "      <td>1</td>\n",
       "      <td>8</td>\n",
       "      <td>5248</td>\n",
       "      <td>Human Resources</td>\n",
       "    </tr>\n",
       "    <tr>\n",
       "      <th>1</th>\n",
       "      <td>2015</td>\n",
       "      <td>23</td>\n",
       "      <td>3</td>\n",
       "      <td>36</td>\n",
       "      <td>2</td>\n",
       "      <td>3</td>\n",
       "      <td>9</td>\n",
       "      <td>3072</td>\n",
       "      <td>Software Developer</td>\n",
       "    </tr>\n",
       "    <tr>\n",
       "      <th>2</th>\n",
       "      <td>2133</td>\n",
       "      <td>26</td>\n",
       "      <td>2</td>\n",
       "      <td>26</td>\n",
       "      <td>0</td>\n",
       "      <td>4</td>\n",
       "      <td>6</td>\n",
       "      <td>3158</td>\n",
       "      <td>Quality Analysis and Testing</td>\n",
       "    </tr>\n",
       "    <tr>\n",
       "      <th>3</th>\n",
       "      <td>1930</td>\n",
       "      <td>23</td>\n",
       "      <td>0</td>\n",
       "      <td>36</td>\n",
       "      <td>1</td>\n",
       "      <td>2</td>\n",
       "      <td>9</td>\n",
       "      <td>5625</td>\n",
       "      <td>Software Developer</td>\n",
       "    </tr>\n",
       "    <tr>\n",
       "      <th>4</th>\n",
       "      <td>1907</td>\n",
       "      <td>26</td>\n",
       "      <td>1</td>\n",
       "      <td>31</td>\n",
       "      <td>0</td>\n",
       "      <td>2</td>\n",
       "      <td>7</td>\n",
       "      <td>3852</td>\n",
       "      <td>Database Admin</td>\n",
       "    </tr>\n",
       "  </tbody>\n",
       "</table>\n",
       "</div>"
      ],
      "text/plain": [
       "   working_hour  sprint  sprint_tasks_awaiting  tasks_completed  \\\n",
       "0          2055      20                      0               37   \n",
       "1          2015      23                      3               36   \n",
       "2          2133      26                      2               26   \n",
       "3          1930      23                      0               36   \n",
       "4          1907      26                      1               31   \n",
       "\n",
       "   tasks_delayed  tasks_incomplete  team_score_avg  monthly_salary  \\\n",
       "0              1                 1               8            5248   \n",
       "1              2                 3               9            3072   \n",
       "2              0                 4               6            3158   \n",
       "3              1                 2               9            5625   \n",
       "4              0                 2               7            3852   \n",
       "\n",
       "                          title  \n",
       "0               Human Resources  \n",
       "1            Software Developer  \n",
       "2  Quality Analysis and Testing  \n",
       "3            Software Developer  \n",
       "4                Database Admin  "
      ]
     },
     "execution_count": 5,
     "metadata": {},
     "output_type": "execute_result"
    }
   ],
   "source": [
    "df.head()"
   ]
  },
  {
   "cell_type": "markdown",
   "id": "e799febb",
   "metadata": {},
   "source": [
    "## Preprocessing"
   ]
  },
  {
   "cell_type": "code",
   "execution_count": 6,
   "id": "a54a6be0",
   "metadata": {},
   "outputs": [],
   "source": [
    "lbe = LabelEncoder()\n",
    "df[\"title\"] = lbe.fit_transform(df[\"title\"])"
   ]
  },
  {
   "cell_type": "code",
   "execution_count": 7,
   "id": "06e31be1",
   "metadata": {},
   "outputs": [],
   "source": [
    "X = df.loc[:, df.columns != 'monthly_salary']\n",
    "y = df.loc[:,'monthly_salary']"
   ]
  },
  {
   "cell_type": "code",
   "execution_count": 8,
   "id": "b2d587dd",
   "metadata": {},
   "outputs": [],
   "source": [
    "X_train, X_test, y_train, y_test = train_test_split(X, y, \n",
    "                                                    test_size=0.10, \n",
    "                                                    random_state=42)"
   ]
  },
  {
   "cell_type": "code",
   "execution_count": 9,
   "id": "221842b4",
   "metadata": {},
   "outputs": [
    {
     "name": "stdout",
     "output_type": "stream",
     "text": [
      "0\n",
      "0\n",
      "0\n",
      "0\n",
      "0\n",
      "0\n",
      "0\n"
     ]
    }
   ],
   "source": [
    "#Outlier\n",
    "cols = X_train.select_dtypes([\"int64\"]).columns\n",
    "for row in cols:\n",
    "    Q1 = X_train[row].quantile(0.25)\n",
    "    Q3 = X_train[row].quantile(0.75)\n",
    "    IQR = Q3-Q1\n",
    "    lower_band = Q1- 1.5*IQR\n",
    "    upper_band = Q3 + 1.5*IQR\n",
    "    filter_iqr = (X_train[row] < lower_band) | ((X_train[row] > upper_band))\n",
    "    filter_iqr.sum()\n",
    "    print(filter_iqr.sum())"
   ]
  },
  {
   "cell_type": "code",
   "execution_count": 10,
   "id": "2d4aa53a",
   "metadata": {},
   "outputs": [
    {
     "data": {
      "text/html": [
       "<div>\n",
       "<style scoped>\n",
       "    .dataframe tbody tr th:only-of-type {\n",
       "        vertical-align: middle;\n",
       "    }\n",
       "\n",
       "    .dataframe tbody tr th {\n",
       "        vertical-align: top;\n",
       "    }\n",
       "\n",
       "    .dataframe thead th {\n",
       "        text-align: right;\n",
       "    }\n",
       "</style>\n",
       "<table border=\"1\" class=\"dataframe\">\n",
       "  <thead>\n",
       "    <tr style=\"text-align: right;\">\n",
       "      <th></th>\n",
       "      <th>working_hour</th>\n",
       "      <th>sprint</th>\n",
       "      <th>sprint_tasks_awaiting</th>\n",
       "      <th>tasks_completed</th>\n",
       "      <th>tasks_delayed</th>\n",
       "      <th>tasks_incomplete</th>\n",
       "      <th>team_score_avg</th>\n",
       "      <th>title</th>\n",
       "    </tr>\n",
       "  </thead>\n",
       "  <tbody>\n",
       "    <tr>\n",
       "      <th>81</th>\n",
       "      <td>1904</td>\n",
       "      <td>21</td>\n",
       "      <td>1</td>\n",
       "      <td>34</td>\n",
       "      <td>1</td>\n",
       "      <td>3</td>\n",
       "      <td>5</td>\n",
       "      <td>9</td>\n",
       "    </tr>\n",
       "    <tr>\n",
       "      <th>382</th>\n",
       "      <td>2090</td>\n",
       "      <td>20</td>\n",
       "      <td>4</td>\n",
       "      <td>36</td>\n",
       "      <td>2</td>\n",
       "      <td>4</td>\n",
       "      <td>7</td>\n",
       "      <td>3</td>\n",
       "    </tr>\n",
       "    <tr>\n",
       "      <th>148</th>\n",
       "      <td>2023</td>\n",
       "      <td>21</td>\n",
       "      <td>3</td>\n",
       "      <td>32</td>\n",
       "      <td>1</td>\n",
       "      <td>0</td>\n",
       "      <td>8</td>\n",
       "      <td>4</td>\n",
       "    </tr>\n",
       "    <tr>\n",
       "      <th>536</th>\n",
       "      <td>1959</td>\n",
       "      <td>21</td>\n",
       "      <td>0</td>\n",
       "      <td>37</td>\n",
       "      <td>2</td>\n",
       "      <td>4</td>\n",
       "      <td>5</td>\n",
       "      <td>3</td>\n",
       "    </tr>\n",
       "    <tr>\n",
       "      <th>581</th>\n",
       "      <td>2107</td>\n",
       "      <td>26</td>\n",
       "      <td>4</td>\n",
       "      <td>27</td>\n",
       "      <td>2</td>\n",
       "      <td>1</td>\n",
       "      <td>6</td>\n",
       "      <td>4</td>\n",
       "    </tr>\n",
       "  </tbody>\n",
       "</table>\n",
       "</div>"
      ],
      "text/plain": [
       "     working_hour  sprint  sprint_tasks_awaiting  tasks_completed  \\\n",
       "81           1904      21                      1               34   \n",
       "382          2090      20                      4               36   \n",
       "148          2023      21                      3               32   \n",
       "536          1959      21                      0               37   \n",
       "581          2107      26                      4               27   \n",
       "\n",
       "     tasks_delayed  tasks_incomplete  team_score_avg  title  \n",
       "81               1                 3               5      9  \n",
       "382              2                 4               7      3  \n",
       "148              1                 0               8      4  \n",
       "536              2                 4               5      3  \n",
       "581              2                 1               6      4  "
      ]
     },
     "execution_count": 10,
     "metadata": {},
     "output_type": "execute_result"
    }
   ],
   "source": [
    "X_train.head()"
   ]
  },
  {
   "cell_type": "code",
   "execution_count": 11,
   "id": "63a1a10a",
   "metadata": {},
   "outputs": [],
   "source": [
    "scaler = StandardScaler()\n",
    "columns = X_train.columns\n",
    "scaler.fit(X_train)\n",
    "X_train = pd.DataFrame(scaler.transform(X_train), columns = columns)\n",
    "X_test = pd.DataFrame(scaler.transform(X_test), columns = columns)"
   ]
  },
  {
   "cell_type": "markdown",
   "id": "ab94c825",
   "metadata": {},
   "source": [
    "## Models"
   ]
  },
  {
   "cell_type": "code",
   "execution_count": 12,
   "id": "51aacc26",
   "metadata": {},
   "outputs": [],
   "source": [
    "lm = LinearRegression()\n",
    "model = lm.fit(X_train, y_train)"
   ]
  },
  {
   "cell_type": "code",
   "execution_count": 13,
   "id": "bb441372",
   "metadata": {},
   "outputs": [
    {
     "name": "stdout",
     "output_type": "stream",
     "text": [
      "883.2413308816434\n"
     ]
    }
   ],
   "source": [
    "y_pred = model.predict(X_test)\n",
    "rmse = np.sqrt(mean_squared_error(y_test, y_pred))\n",
    "print(rmse)"
   ]
  },
  {
   "cell_type": "code",
   "execution_count": 14,
   "id": "b4cbcc7d",
   "metadata": {},
   "outputs": [
    {
     "data": {
      "text/plain": [
       "1039.6522878489855"
      ]
     },
     "execution_count": 14,
     "metadata": {},
     "output_type": "execute_result"
    }
   ],
   "source": [
    "knn_model = KNeighborsRegressor(n_neighbors=3).fit(X_train, y_train)\n",
    "y_pred = knn_model.predict(X_test)\n",
    "np.sqrt(mean_squared_error(y_test, y_pred))"
   ]
  },
  {
   "cell_type": "code",
   "execution_count": 15,
   "id": "77f9bdaa",
   "metadata": {},
   "outputs": [
    {
     "data": {
      "text/plain": [
       "884.4515372275679"
      ]
     },
     "execution_count": 15,
     "metadata": {},
     "output_type": "execute_result"
    }
   ],
   "source": [
    "svr_model = SVR().fit(X_train, y_train)\n",
    "y_pred = svr_model.predict(X_test)\n",
    "np.sqrt(mean_squared_error(y_test, y_pred))"
   ]
  },
  {
   "cell_type": "code",
   "execution_count": 16,
   "id": "c628cc79",
   "metadata": {},
   "outputs": [
    {
     "data": {
      "text/plain": [
       "1343.535758114883"
      ]
     },
     "execution_count": 16,
     "metadata": {},
     "output_type": "execute_result"
    }
   ],
   "source": [
    "cart_model = DecisionTreeRegressor()\n",
    "cart_model.fit(X_train, y_train)\n",
    "y_pred = cart_model.predict(X_test)\n",
    "np.sqrt(mean_squared_error(y_test, y_pred))"
   ]
  },
  {
   "cell_type": "code",
   "execution_count": 17,
   "id": "9773d60d",
   "metadata": {},
   "outputs": [
    {
     "data": {
      "text/plain": [
       "889.9744189402612"
      ]
     },
     "execution_count": 17,
     "metadata": {},
     "output_type": "execute_result"
    }
   ],
   "source": [
    "rf_model = RandomForestRegressor(random_state = 42)\n",
    "rf_model.fit(X_train, y_train)\n",
    "y_pred = rf_model.predict(X_test)\n",
    "np.sqrt(mean_squared_error(y_test, y_pred))"
   ]
  },
  {
   "cell_type": "code",
   "execution_count": 18,
   "id": "02ab0283",
   "metadata": {},
   "outputs": [
    {
     "data": {
      "text/plain": [
       "1003.5229704540069"
      ]
     },
     "execution_count": 18,
     "metadata": {},
     "output_type": "execute_result"
    }
   ],
   "source": [
    "lgbm = LGBMRegressor()\n",
    "lgbm_model = lgbm.fit(X_train, y_train)\n",
    "y_pred = lgbm_model.predict(X_test)\n",
    "np.sqrt(mean_squared_error(y_test, y_pred))\n"
   ]
  },
  {
   "cell_type": "markdown",
   "id": "bd77e3f4",
   "metadata": {},
   "source": [
    "## Fine Tuning Best Algorithm"
   ]
  },
  {
   "cell_type": "code",
   "execution_count": 19,
   "id": "bfcdd919",
   "metadata": {},
   "outputs": [
    {
     "data": {
      "text/html": [
       "<div>\n",
       "<style scoped>\n",
       "    .dataframe tbody tr th:only-of-type {\n",
       "        vertical-align: middle;\n",
       "    }\n",
       "\n",
       "    .dataframe tbody tr th {\n",
       "        vertical-align: top;\n",
       "    }\n",
       "\n",
       "    .dataframe thead th {\n",
       "        text-align: right;\n",
       "    }\n",
       "</style>\n",
       "<table border=\"1\" class=\"dataframe\">\n",
       "  <thead>\n",
       "    <tr style=\"text-align: right;\">\n",
       "      <th></th>\n",
       "      <th>working_hour</th>\n",
       "      <th>sprint</th>\n",
       "      <th>sprint_tasks_awaiting</th>\n",
       "      <th>tasks_completed</th>\n",
       "      <th>tasks_delayed</th>\n",
       "      <th>tasks_incomplete</th>\n",
       "      <th>team_score_avg</th>\n",
       "      <th>title</th>\n",
       "    </tr>\n",
       "  </thead>\n",
       "  <tbody>\n",
       "    <tr>\n",
       "      <th>0</th>\n",
       "      <td>-1.739194</td>\n",
       "      <td>-0.982993</td>\n",
       "      <td>-0.616965</td>\n",
       "      <td>0.679661</td>\n",
       "      <td>0.050458</td>\n",
       "      <td>0.620729</td>\n",
       "      <td>-1.471163</td>\n",
       "      <td>0.890265</td>\n",
       "    </tr>\n",
       "    <tr>\n",
       "      <th>1</th>\n",
       "      <td>0.439032</td>\n",
       "      <td>-1.481022</td>\n",
       "      <td>1.458088</td>\n",
       "      <td>1.013819</td>\n",
       "      <td>1.261440</td>\n",
       "      <td>1.325164</td>\n",
       "      <td>-0.311414</td>\n",
       "      <td>-0.924811</td>\n",
       "    </tr>\n",
       "    <tr>\n",
       "      <th>2</th>\n",
       "      <td>-0.345598</td>\n",
       "      <td>-0.982993</td>\n",
       "      <td>0.766403</td>\n",
       "      <td>0.345503</td>\n",
       "      <td>0.050458</td>\n",
       "      <td>-1.492576</td>\n",
       "      <td>0.268460</td>\n",
       "      <td>-0.622299</td>\n",
       "    </tr>\n",
       "    <tr>\n",
       "      <th>3</th>\n",
       "      <td>-1.095095</td>\n",
       "      <td>-0.982993</td>\n",
       "      <td>-1.308650</td>\n",
       "      <td>1.180898</td>\n",
       "      <td>1.261440</td>\n",
       "      <td>1.325164</td>\n",
       "      <td>-1.471163</td>\n",
       "      <td>-0.924811</td>\n",
       "    </tr>\n",
       "    <tr>\n",
       "      <th>4</th>\n",
       "      <td>0.638117</td>\n",
       "      <td>1.507153</td>\n",
       "      <td>1.458088</td>\n",
       "      <td>-0.489892</td>\n",
       "      <td>1.261440</td>\n",
       "      <td>-0.788141</td>\n",
       "      <td>-0.891289</td>\n",
       "      <td>-0.622299</td>\n",
       "    </tr>\n",
       "    <tr>\n",
       "      <th>...</th>\n",
       "      <td>...</td>\n",
       "      <td>...</td>\n",
       "      <td>...</td>\n",
       "      <td>...</td>\n",
       "      <td>...</td>\n",
       "      <td>...</td>\n",
       "      <td>...</td>\n",
       "      <td>...</td>\n",
       "    </tr>\n",
       "    <tr>\n",
       "      <th>643</th>\n",
       "      <td>-1.551819</td>\n",
       "      <td>0.511095</td>\n",
       "      <td>0.766403</td>\n",
       "      <td>-1.158208</td>\n",
       "      <td>-1.160525</td>\n",
       "      <td>0.620729</td>\n",
       "      <td>-0.891289</td>\n",
       "      <td>-0.924811</td>\n",
       "    </tr>\n",
       "    <tr>\n",
       "      <th>644</th>\n",
       "      <td>-0.579816</td>\n",
       "      <td>1.507153</td>\n",
       "      <td>0.074719</td>\n",
       "      <td>-0.991129</td>\n",
       "      <td>0.050458</td>\n",
       "      <td>-0.788141</td>\n",
       "      <td>0.848335</td>\n",
       "      <td>0.587752</td>\n",
       "    </tr>\n",
       "    <tr>\n",
       "      <th>645</th>\n",
       "      <td>-1.001408</td>\n",
       "      <td>-0.484964</td>\n",
       "      <td>0.074719</td>\n",
       "      <td>-0.991129</td>\n",
       "      <td>-1.160525</td>\n",
       "      <td>1.325164</td>\n",
       "      <td>-0.311414</td>\n",
       "      <td>-0.924811</td>\n",
       "    </tr>\n",
       "    <tr>\n",
       "      <th>646</th>\n",
       "      <td>1.036287</td>\n",
       "      <td>-0.484964</td>\n",
       "      <td>-1.308650</td>\n",
       "      <td>0.345503</td>\n",
       "      <td>1.261440</td>\n",
       "      <td>0.620729</td>\n",
       "      <td>0.268460</td>\n",
       "      <td>1.192778</td>\n",
       "    </tr>\n",
       "    <tr>\n",
       "      <th>647</th>\n",
       "      <td>-1.469843</td>\n",
       "      <td>1.009124</td>\n",
       "      <td>1.458088</td>\n",
       "      <td>0.679661</td>\n",
       "      <td>-1.160525</td>\n",
       "      <td>1.325164</td>\n",
       "      <td>-1.471163</td>\n",
       "      <td>-0.017273</td>\n",
       "    </tr>\n",
       "  </tbody>\n",
       "</table>\n",
       "<p>648 rows × 8 columns</p>\n",
       "</div>"
      ],
      "text/plain": [
       "     working_hour    sprint  sprint_tasks_awaiting  tasks_completed  \\\n",
       "0       -1.739194 -0.982993              -0.616965         0.679661   \n",
       "1        0.439032 -1.481022               1.458088         1.013819   \n",
       "2       -0.345598 -0.982993               0.766403         0.345503   \n",
       "3       -1.095095 -0.982993              -1.308650         1.180898   \n",
       "4        0.638117  1.507153               1.458088        -0.489892   \n",
       "..            ...       ...                    ...              ...   \n",
       "643     -1.551819  0.511095               0.766403        -1.158208   \n",
       "644     -0.579816  1.507153               0.074719        -0.991129   \n",
       "645     -1.001408 -0.484964               0.074719        -0.991129   \n",
       "646      1.036287 -0.484964              -1.308650         0.345503   \n",
       "647     -1.469843  1.009124               1.458088         0.679661   \n",
       "\n",
       "     tasks_delayed  tasks_incomplete  team_score_avg     title  \n",
       "0         0.050458          0.620729       -1.471163  0.890265  \n",
       "1         1.261440          1.325164       -0.311414 -0.924811  \n",
       "2         0.050458         -1.492576        0.268460 -0.622299  \n",
       "3         1.261440          1.325164       -1.471163 -0.924811  \n",
       "4         1.261440         -0.788141       -0.891289 -0.622299  \n",
       "..             ...               ...             ...       ...  \n",
       "643      -1.160525          0.620729       -0.891289 -0.924811  \n",
       "644       0.050458         -0.788141        0.848335  0.587752  \n",
       "645      -1.160525          1.325164       -0.311414 -0.924811  \n",
       "646       1.261440          0.620729        0.268460  1.192778  \n",
       "647      -1.160525          1.325164       -1.471163 -0.017273  \n",
       "\n",
       "[648 rows x 8 columns]"
      ]
     },
     "execution_count": 19,
     "metadata": {},
     "output_type": "execute_result"
    }
   ],
   "source": [
    "X_train"
   ]
  },
  {
   "cell_type": "code",
   "execution_count": 20,
   "id": "c9872710",
   "metadata": {},
   "outputs": [
    {
     "name": "stdout",
     "output_type": "stream",
     "text": [
      "C         0.1\n",
      "degree    2.0\n",
      "dtype: float64\n"
     ]
    },
    {
     "data": {
      "text/plain": [
       "883.9519980889748"
      ]
     },
     "execution_count": 20,
     "metadata": {},
     "output_type": "execute_result"
    }
   ],
   "source": [
    "svr_params = {\"degree\":[2,3,4,5] ,\"C\": np.arange(0.1,2,0.1)}\n",
    "svr_cv_model = GridSearchCV(svr_model, svr_params, cv = 10).fit(X_train,y_train)\n",
    "print(pd.Series(svr_cv_model.best_params_))\n",
    "svr_tuned = SVR(kernel =\"linear\", \n",
    "                C = pd.Series(svr_cv_model.best_params_)[0],degree = 2).fit(X_train, y_train)\n",
    "y_pred = svr_tuned.predict(X_test)\n",
    "np.sqrt(mean_squared_error(y_test, y_pred))"
   ]
  },
  {
   "cell_type": "markdown",
   "id": "fe976cb5",
   "metadata": {},
   "source": [
    "## Model Saving"
   ]
  },
  {
   "cell_type": "code",
   "execution_count": 21,
   "id": "2dd2fbbc",
   "metadata": {},
   "outputs": [],
   "source": [
    "import pickle"
   ]
  },
  {
   "cell_type": "code",
   "execution_count": 22,
   "id": "b8f97531",
   "metadata": {},
   "outputs": [],
   "source": [
    "pickle.dump(svr_tuned, open(\"SVRmodel\", 'wb'))\n",
    "pickle.dump(scaler, open(\"scaler\", 'wb'))\n",
    "pickle.dump(lbe, open(\"laberEncoder\", 'wb'))"
   ]
  }
 ],
 "metadata": {
  "kernelspec": {
   "display_name": "Python 3 (ipykernel)",
   "language": "python",
   "name": "python3"
  },
  "language_info": {
   "codemirror_mode": {
    "name": "ipython",
    "version": 3
   },
   "file_extension": ".py",
   "mimetype": "text/x-python",
   "name": "python",
   "nbconvert_exporter": "python",
   "pygments_lexer": "ipython3",
   "version": "3.10.9"
  }
 },
 "nbformat": 4,
 "nbformat_minor": 5
}
